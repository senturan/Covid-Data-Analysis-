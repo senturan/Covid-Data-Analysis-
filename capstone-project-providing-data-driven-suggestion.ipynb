{
 "cells": [
  {
   "cell_type": "code",
   "execution_count": 1,
   "id": "3c7bae8b",
   "metadata": {
    "_cell_guid": "b1076dfc-b9ad-4769-8c92-a6c4dae69d19",
    "_uuid": "8f2839f25d086af736a60e9eeb907d3b93b6e0e5",
    "execution": {
     "iopub.execute_input": "2024-02-19T16:20:01.405098Z",
     "iopub.status.busy": "2024-02-19T16:20:01.404538Z",
     "iopub.status.idle": "2024-02-19T16:20:01.427315Z",
     "shell.execute_reply": "2024-02-19T16:20:01.426286Z"
    },
    "papermill": {
     "duration": 0.038567,
     "end_time": "2024-02-19T16:20:01.430145",
     "exception": false,
     "start_time": "2024-02-19T16:20:01.391578",
     "status": "completed"
    },
    "tags": []
   },
   "outputs": [
    {
     "name": "stdout",
     "output_type": "stream",
     "text": [
      "/kaggle/input/hr-analytics-and-job-prediction/HR_comma_sep.csv\n"
     ]
    }
   ],
   "source": [
    "# This Python 3 environment comes with many helpful analytics libraries installed\n",
    "# It is defined by the kaggle/python Docker image: https://github.com/kaggle/docker-python\n",
    "# For example, here's several helpful packages to load\n",
    "\n",
    "import numpy as np # linear algebra\n",
    "import pandas as pd # data processing, CSV file I/O (e.g. pd.read_csv)\n",
    "import matplotlib.pyplot as plt\n",
    "\n",
    "# Input data files are available in the read-only \"../input/\" directory\n",
    "# For example, running this (by clicking run or pressing Shift+Enter) will list all files under the input directory\n",
    "\n",
    "import os\n",
    "for dirname, _, filenames in os.walk('/kaggle/input'):\n",
    "    for filename in filenames:\n",
    "        print(os.path.join(dirname, filename))\n",
    "\n",
    "# You can write up to 20GB to the current directory (/kaggle/working/) that gets preserved as output when you create a version using \"Save & Run All\" \n",
    "# You can also write temporary files to /kaggle/temp/, but they won't be saved outside of the current session"
   ]
  },
  {
   "cell_type": "code",
   "execution_count": 2,
   "id": "96a2104c",
   "metadata": {
    "execution": {
     "iopub.execute_input": "2024-02-19T16:20:01.450111Z",
     "iopub.status.busy": "2024-02-19T16:20:01.449583Z",
     "iopub.status.idle": "2024-02-19T16:20:01.531196Z",
     "shell.execute_reply": "2024-02-19T16:20:01.529749Z"
    },
    "papermill": {
     "duration": 0.095061,
     "end_time": "2024-02-19T16:20:01.534075",
     "exception": false,
     "start_time": "2024-02-19T16:20:01.439014",
     "status": "completed"
    },
    "tags": []
   },
   "outputs": [
    {
     "data": {
      "text/html": [
       "<div>\n",
       "<style scoped>\n",
       "    .dataframe tbody tr th:only-of-type {\n",
       "        vertical-align: middle;\n",
       "    }\n",
       "\n",
       "    .dataframe tbody tr th {\n",
       "        vertical-align: top;\n",
       "    }\n",
       "\n",
       "    .dataframe thead th {\n",
       "        text-align: right;\n",
       "    }\n",
       "</style>\n",
       "<table border=\"1\" class=\"dataframe\">\n",
       "  <thead>\n",
       "    <tr style=\"text-align: right;\">\n",
       "      <th></th>\n",
       "      <th>satisfaction_level</th>\n",
       "      <th>last_evaluation</th>\n",
       "      <th>number_project</th>\n",
       "      <th>average_montly_hours</th>\n",
       "      <th>time_spend_company</th>\n",
       "      <th>Work_accident</th>\n",
       "      <th>left</th>\n",
       "      <th>promotion_last_5years</th>\n",
       "      <th>Department</th>\n",
       "      <th>salary</th>\n",
       "    </tr>\n",
       "  </thead>\n",
       "  <tbody>\n",
       "    <tr>\n",
       "      <th>0</th>\n",
       "      <td>0.38</td>\n",
       "      <td>0.53</td>\n",
       "      <td>2</td>\n",
       "      <td>157</td>\n",
       "      <td>3</td>\n",
       "      <td>0</td>\n",
       "      <td>1</td>\n",
       "      <td>0</td>\n",
       "      <td>sales</td>\n",
       "      <td>low</td>\n",
       "    </tr>\n",
       "    <tr>\n",
       "      <th>1</th>\n",
       "      <td>0.80</td>\n",
       "      <td>0.86</td>\n",
       "      <td>5</td>\n",
       "      <td>262</td>\n",
       "      <td>6</td>\n",
       "      <td>0</td>\n",
       "      <td>1</td>\n",
       "      <td>0</td>\n",
       "      <td>sales</td>\n",
       "      <td>medium</td>\n",
       "    </tr>\n",
       "    <tr>\n",
       "      <th>2</th>\n",
       "      <td>0.11</td>\n",
       "      <td>0.88</td>\n",
       "      <td>7</td>\n",
       "      <td>272</td>\n",
       "      <td>4</td>\n",
       "      <td>0</td>\n",
       "      <td>1</td>\n",
       "      <td>0</td>\n",
       "      <td>sales</td>\n",
       "      <td>medium</td>\n",
       "    </tr>\n",
       "    <tr>\n",
       "      <th>3</th>\n",
       "      <td>0.72</td>\n",
       "      <td>0.87</td>\n",
       "      <td>5</td>\n",
       "      <td>223</td>\n",
       "      <td>5</td>\n",
       "      <td>0</td>\n",
       "      <td>1</td>\n",
       "      <td>0</td>\n",
       "      <td>sales</td>\n",
       "      <td>low</td>\n",
       "    </tr>\n",
       "    <tr>\n",
       "      <th>4</th>\n",
       "      <td>0.37</td>\n",
       "      <td>0.52</td>\n",
       "      <td>2</td>\n",
       "      <td>159</td>\n",
       "      <td>3</td>\n",
       "      <td>0</td>\n",
       "      <td>1</td>\n",
       "      <td>0</td>\n",
       "      <td>sales</td>\n",
       "      <td>low</td>\n",
       "    </tr>\n",
       "  </tbody>\n",
       "</table>\n",
       "</div>"
      ],
      "text/plain": [
       "   satisfaction_level  last_evaluation  number_project  average_montly_hours  \\\n",
       "0                0.38             0.53               2                   157   \n",
       "1                0.80             0.86               5                   262   \n",
       "2                0.11             0.88               7                   272   \n",
       "3                0.72             0.87               5                   223   \n",
       "4                0.37             0.52               2                   159   \n",
       "\n",
       "   time_spend_company  Work_accident  left  promotion_last_5years Department  \\\n",
       "0                   3              0     1                      0      sales   \n",
       "1                   6              0     1                      0      sales   \n",
       "2                   4              0     1                      0      sales   \n",
       "3                   5              0     1                      0      sales   \n",
       "4                   3              0     1                      0      sales   \n",
       "\n",
       "   salary  \n",
       "0     low  \n",
       "1  medium  \n",
       "2  medium  \n",
       "3     low  \n",
       "4     low  "
      ]
     },
     "execution_count": 2,
     "metadata": {},
     "output_type": "execute_result"
    }
   ],
   "source": [
    "df = pd.read_csv('/kaggle/input/hr-analytics-and-job-prediction/HR_comma_sep.csv')\n",
    "df.head()"
   ]
  },
  {
   "cell_type": "code",
   "execution_count": 3,
   "id": "98e90dfd",
   "metadata": {
    "execution": {
     "iopub.execute_input": "2024-02-19T16:20:01.554049Z",
     "iopub.status.busy": "2024-02-19T16:20:01.553387Z",
     "iopub.status.idle": "2024-02-19T16:20:01.598092Z",
     "shell.execute_reply": "2024-02-19T16:20:01.596737Z"
    },
    "papermill": {
     "duration": 0.058544,
     "end_time": "2024-02-19T16:20:01.601373",
     "exception": false,
     "start_time": "2024-02-19T16:20:01.542829",
     "status": "completed"
    },
    "tags": []
   },
   "outputs": [
    {
     "name": "stdout",
     "output_type": "stream",
     "text": [
      "<class 'pandas.core.frame.DataFrame'>\n",
      "RangeIndex: 14999 entries, 0 to 14998\n",
      "Data columns (total 10 columns):\n",
      " #   Column                 Non-Null Count  Dtype  \n",
      "---  ------                 --------------  -----  \n",
      " 0   satisfaction_level     14999 non-null  float64\n",
      " 1   last_evaluation        14999 non-null  float64\n",
      " 2   number_project         14999 non-null  int64  \n",
      " 3   average_montly_hours   14999 non-null  int64  \n",
      " 4   time_spend_company     14999 non-null  int64  \n",
      " 5   Work_accident          14999 non-null  int64  \n",
      " 6   left                   14999 non-null  int64  \n",
      " 7   promotion_last_5years  14999 non-null  int64  \n",
      " 8   Department             14999 non-null  object \n",
      " 9   salary                 14999 non-null  object \n",
      "dtypes: float64(2), int64(6), object(2)\n",
      "memory usage: 1.1+ MB\n"
     ]
    }
   ],
   "source": [
    "df.info()"
   ]
  },
  {
   "cell_type": "code",
   "execution_count": 4,
   "id": "47f8be6a",
   "metadata": {
    "execution": {
     "iopub.execute_input": "2024-02-19T16:20:01.623833Z",
     "iopub.status.busy": "2024-02-19T16:20:01.622134Z",
     "iopub.status.idle": "2024-02-19T16:20:01.672066Z",
     "shell.execute_reply": "2024-02-19T16:20:01.670760Z"
    },
    "papermill": {
     "duration": 0.064018,
     "end_time": "2024-02-19T16:20:01.675181",
     "exception": false,
     "start_time": "2024-02-19T16:20:01.611163",
     "status": "completed"
    },
    "tags": []
   },
   "outputs": [
    {
     "data": {
      "text/html": [
       "<div>\n",
       "<style scoped>\n",
       "    .dataframe tbody tr th:only-of-type {\n",
       "        vertical-align: middle;\n",
       "    }\n",
       "\n",
       "    .dataframe tbody tr th {\n",
       "        vertical-align: top;\n",
       "    }\n",
       "\n",
       "    .dataframe thead th {\n",
       "        text-align: right;\n",
       "    }\n",
       "</style>\n",
       "<table border=\"1\" class=\"dataframe\">\n",
       "  <thead>\n",
       "    <tr style=\"text-align: right;\">\n",
       "      <th></th>\n",
       "      <th>satisfaction_level</th>\n",
       "      <th>last_evaluation</th>\n",
       "      <th>number_project</th>\n",
       "      <th>average_montly_hours</th>\n",
       "      <th>time_spend_company</th>\n",
       "      <th>Work_accident</th>\n",
       "      <th>left</th>\n",
       "      <th>promotion_last_5years</th>\n",
       "    </tr>\n",
       "  </thead>\n",
       "  <tbody>\n",
       "    <tr>\n",
       "      <th>count</th>\n",
       "      <td>14999.000000</td>\n",
       "      <td>14999.000000</td>\n",
       "      <td>14999.000000</td>\n",
       "      <td>14999.000000</td>\n",
       "      <td>14999.000000</td>\n",
       "      <td>14999.000000</td>\n",
       "      <td>14999.000000</td>\n",
       "      <td>14999.000000</td>\n",
       "    </tr>\n",
       "    <tr>\n",
       "      <th>mean</th>\n",
       "      <td>0.612834</td>\n",
       "      <td>0.716102</td>\n",
       "      <td>3.803054</td>\n",
       "      <td>201.050337</td>\n",
       "      <td>3.498233</td>\n",
       "      <td>0.144610</td>\n",
       "      <td>0.238083</td>\n",
       "      <td>0.021268</td>\n",
       "    </tr>\n",
       "    <tr>\n",
       "      <th>std</th>\n",
       "      <td>0.248631</td>\n",
       "      <td>0.171169</td>\n",
       "      <td>1.232592</td>\n",
       "      <td>49.943099</td>\n",
       "      <td>1.460136</td>\n",
       "      <td>0.351719</td>\n",
       "      <td>0.425924</td>\n",
       "      <td>0.144281</td>\n",
       "    </tr>\n",
       "    <tr>\n",
       "      <th>min</th>\n",
       "      <td>0.090000</td>\n",
       "      <td>0.360000</td>\n",
       "      <td>2.000000</td>\n",
       "      <td>96.000000</td>\n",
       "      <td>2.000000</td>\n",
       "      <td>0.000000</td>\n",
       "      <td>0.000000</td>\n",
       "      <td>0.000000</td>\n",
       "    </tr>\n",
       "    <tr>\n",
       "      <th>25%</th>\n",
       "      <td>0.440000</td>\n",
       "      <td>0.560000</td>\n",
       "      <td>3.000000</td>\n",
       "      <td>156.000000</td>\n",
       "      <td>3.000000</td>\n",
       "      <td>0.000000</td>\n",
       "      <td>0.000000</td>\n",
       "      <td>0.000000</td>\n",
       "    </tr>\n",
       "    <tr>\n",
       "      <th>50%</th>\n",
       "      <td>0.640000</td>\n",
       "      <td>0.720000</td>\n",
       "      <td>4.000000</td>\n",
       "      <td>200.000000</td>\n",
       "      <td>3.000000</td>\n",
       "      <td>0.000000</td>\n",
       "      <td>0.000000</td>\n",
       "      <td>0.000000</td>\n",
       "    </tr>\n",
       "    <tr>\n",
       "      <th>75%</th>\n",
       "      <td>0.820000</td>\n",
       "      <td>0.870000</td>\n",
       "      <td>5.000000</td>\n",
       "      <td>245.000000</td>\n",
       "      <td>4.000000</td>\n",
       "      <td>0.000000</td>\n",
       "      <td>0.000000</td>\n",
       "      <td>0.000000</td>\n",
       "    </tr>\n",
       "    <tr>\n",
       "      <th>max</th>\n",
       "      <td>1.000000</td>\n",
       "      <td>1.000000</td>\n",
       "      <td>7.000000</td>\n",
       "      <td>310.000000</td>\n",
       "      <td>10.000000</td>\n",
       "      <td>1.000000</td>\n",
       "      <td>1.000000</td>\n",
       "      <td>1.000000</td>\n",
       "    </tr>\n",
       "  </tbody>\n",
       "</table>\n",
       "</div>"
      ],
      "text/plain": [
       "       satisfaction_level  last_evaluation  number_project  \\\n",
       "count        14999.000000     14999.000000    14999.000000   \n",
       "mean             0.612834         0.716102        3.803054   \n",
       "std              0.248631         0.171169        1.232592   \n",
       "min              0.090000         0.360000        2.000000   \n",
       "25%              0.440000         0.560000        3.000000   \n",
       "50%              0.640000         0.720000        4.000000   \n",
       "75%              0.820000         0.870000        5.000000   \n",
       "max              1.000000         1.000000        7.000000   \n",
       "\n",
       "       average_montly_hours  time_spend_company  Work_accident          left  \\\n",
       "count          14999.000000        14999.000000   14999.000000  14999.000000   \n",
       "mean             201.050337            3.498233       0.144610      0.238083   \n",
       "std               49.943099            1.460136       0.351719      0.425924   \n",
       "min               96.000000            2.000000       0.000000      0.000000   \n",
       "25%              156.000000            3.000000       0.000000      0.000000   \n",
       "50%              200.000000            3.000000       0.000000      0.000000   \n",
       "75%              245.000000            4.000000       0.000000      0.000000   \n",
       "max              310.000000           10.000000       1.000000      1.000000   \n",
       "\n",
       "       promotion_last_5years  \n",
       "count           14999.000000  \n",
       "mean                0.021268  \n",
       "std                 0.144281  \n",
       "min                 0.000000  \n",
       "25%                 0.000000  \n",
       "50%                 0.000000  \n",
       "75%                 0.000000  \n",
       "max                 1.000000  "
      ]
     },
     "execution_count": 4,
     "metadata": {},
     "output_type": "execute_result"
    }
   ],
   "source": [
    "df.describe()"
   ]
  },
  {
   "cell_type": "code",
   "execution_count": 5,
   "id": "0d939acc",
   "metadata": {
    "execution": {
     "iopub.execute_input": "2024-02-19T16:20:01.697288Z",
     "iopub.status.busy": "2024-02-19T16:20:01.695967Z",
     "iopub.status.idle": "2024-02-19T16:20:01.707023Z",
     "shell.execute_reply": "2024-02-19T16:20:01.706016Z"
    },
    "papermill": {
     "duration": 0.024656,
     "end_time": "2024-02-19T16:20:01.709442",
     "exception": false,
     "start_time": "2024-02-19T16:20:01.684786",
     "status": "completed"
    },
    "tags": []
   },
   "outputs": [
    {
     "data": {
      "text/plain": [
       "Index(['satisfaction_level', 'last_evaluation', 'number_project',\n",
       "       'average_monthly_hours', 'tenure', 'work_accident', 'left',\n",
       "       'promotion_last_5years', 'department', 'salary'],\n",
       "      dtype='object')"
      ]
     },
     "execution_count": 5,
     "metadata": {},
     "output_type": "execute_result"
    }
   ],
   "source": [
    "# Rename columns \n",
    "df = df.rename(columns={'Work_accident': 'work_accident',\n",
    "                          'average_montly_hours': 'average_monthly_hours',\n",
    "                          'time_spend_company': 'tenure',\n",
    "                          'Department': 'department'})\n",
    "df.columns"
   ]
  },
  {
   "cell_type": "code",
   "execution_count": 6,
   "id": "49d90622",
   "metadata": {
    "execution": {
     "iopub.execute_input": "2024-02-19T16:20:01.730727Z",
     "iopub.status.busy": "2024-02-19T16:20:01.729875Z",
     "iopub.status.idle": "2024-02-19T16:20:01.750778Z",
     "shell.execute_reply": "2024-02-19T16:20:01.749488Z"
    },
    "papermill": {
     "duration": 0.034752,
     "end_time": "2024-02-19T16:20:01.753598",
     "exception": false,
     "start_time": "2024-02-19T16:20:01.718846",
     "status": "completed"
    },
    "tags": []
   },
   "outputs": [
    {
     "data": {
      "text/plain": [
       "satisfaction_level       0\n",
       "last_evaluation          0\n",
       "number_project           0\n",
       "average_monthly_hours    0\n",
       "tenure                   0\n",
       "work_accident            0\n",
       "left                     0\n",
       "promotion_last_5years    0\n",
       "department               0\n",
       "salary                   0\n",
       "dtype: int64"
      ]
     },
     "execution_count": 6,
     "metadata": {},
     "output_type": "execute_result"
    }
   ],
   "source": [
    "df.isna().sum()"
   ]
  },
  {
   "cell_type": "code",
   "execution_count": 7,
   "id": "10e8d52d",
   "metadata": {
    "execution": {
     "iopub.execute_input": "2024-02-19T16:20:01.775387Z",
     "iopub.status.busy": "2024-02-19T16:20:01.774935Z",
     "iopub.status.idle": "2024-02-19T16:20:01.793269Z",
     "shell.execute_reply": "2024-02-19T16:20:01.791894Z"
    },
    "papermill": {
     "duration": 0.032931,
     "end_time": "2024-02-19T16:20:01.796455",
     "exception": false,
     "start_time": "2024-02-19T16:20:01.763524",
     "status": "completed"
    },
    "tags": []
   },
   "outputs": [
    {
     "data": {
      "text/plain": [
       "(3008, (14999, 10))"
      ]
     },
     "execution_count": 7,
     "metadata": {},
     "output_type": "execute_result"
    }
   ],
   "source": [
    "df.duplicated().sum(),df.shape,\n"
   ]
  },
  {
   "cell_type": "code",
   "execution_count": 8,
   "id": "c3cea407",
   "metadata": {
    "execution": {
     "iopub.execute_input": "2024-02-19T16:20:01.823002Z",
     "iopub.status.busy": "2024-02-19T16:20:01.822143Z",
     "iopub.status.idle": "2024-02-19T16:20:01.842634Z",
     "shell.execute_reply": "2024-02-19T16:20:01.840889Z"
    },
    "papermill": {
     "duration": 0.03874,
     "end_time": "2024-02-19T16:20:01.845740",
     "exception": false,
     "start_time": "2024-02-19T16:20:01.807000",
     "status": "completed"
    },
    "tags": []
   },
   "outputs": [
    {
     "data": {
      "text/plain": [
       "(11991, 10)"
      ]
     },
     "execution_count": 8,
     "metadata": {},
     "output_type": "execute_result"
    }
   ],
   "source": [
    "df = df.drop_duplicates(keep='first')\n",
    "df.shape"
   ]
  },
  {
   "cell_type": "code",
   "execution_count": 9,
   "id": "8e42ab76",
   "metadata": {
    "execution": {
     "iopub.execute_input": "2024-02-19T16:20:01.870041Z",
     "iopub.status.busy": "2024-02-19T16:20:01.869559Z",
     "iopub.status.idle": "2024-02-19T16:20:01.887949Z",
     "shell.execute_reply": "2024-02-19T16:20:01.886714Z"
    },
    "papermill": {
     "duration": 0.035006,
     "end_time": "2024-02-19T16:20:01.890678",
     "exception": false,
     "start_time": "2024-02-19T16:20:01.855672",
     "status": "completed"
    },
    "tags": []
   },
   "outputs": [
    {
     "data": {
      "text/html": [
       "<div>\n",
       "<style scoped>\n",
       "    .dataframe tbody tr th:only-of-type {\n",
       "        vertical-align: middle;\n",
       "    }\n",
       "\n",
       "    .dataframe tbody tr th {\n",
       "        vertical-align: top;\n",
       "    }\n",
       "\n",
       "    .dataframe thead th {\n",
       "        text-align: right;\n",
       "    }\n",
       "</style>\n",
       "<table border=\"1\" class=\"dataframe\">\n",
       "  <thead>\n",
       "    <tr style=\"text-align: right;\">\n",
       "      <th></th>\n",
       "      <th>satisfaction_level</th>\n",
       "      <th>last_evaluation</th>\n",
       "      <th>number_project</th>\n",
       "      <th>average_monthly_hours</th>\n",
       "      <th>tenure</th>\n",
       "      <th>work_accident</th>\n",
       "      <th>left</th>\n",
       "      <th>promotion_last_5years</th>\n",
       "      <th>department</th>\n",
       "      <th>salary</th>\n",
       "    </tr>\n",
       "  </thead>\n",
       "  <tbody>\n",
       "    <tr>\n",
       "      <th>0</th>\n",
       "      <td>0.38</td>\n",
       "      <td>0.53</td>\n",
       "      <td>2</td>\n",
       "      <td>157</td>\n",
       "      <td>3</td>\n",
       "      <td>0</td>\n",
       "      <td>1</td>\n",
       "      <td>0</td>\n",
       "      <td>sales</td>\n",
       "      <td>low</td>\n",
       "    </tr>\n",
       "    <tr>\n",
       "      <th>1</th>\n",
       "      <td>0.80</td>\n",
       "      <td>0.86</td>\n",
       "      <td>5</td>\n",
       "      <td>262</td>\n",
       "      <td>6</td>\n",
       "      <td>0</td>\n",
       "      <td>1</td>\n",
       "      <td>0</td>\n",
       "      <td>sales</td>\n",
       "      <td>medium</td>\n",
       "    </tr>\n",
       "    <tr>\n",
       "      <th>2</th>\n",
       "      <td>0.11</td>\n",
       "      <td>0.88</td>\n",
       "      <td>7</td>\n",
       "      <td>272</td>\n",
       "      <td>4</td>\n",
       "      <td>0</td>\n",
       "      <td>1</td>\n",
       "      <td>0</td>\n",
       "      <td>sales</td>\n",
       "      <td>medium</td>\n",
       "    </tr>\n",
       "    <tr>\n",
       "      <th>3</th>\n",
       "      <td>0.72</td>\n",
       "      <td>0.87</td>\n",
       "      <td>5</td>\n",
       "      <td>223</td>\n",
       "      <td>5</td>\n",
       "      <td>0</td>\n",
       "      <td>1</td>\n",
       "      <td>0</td>\n",
       "      <td>sales</td>\n",
       "      <td>low</td>\n",
       "    </tr>\n",
       "    <tr>\n",
       "      <th>4</th>\n",
       "      <td>0.37</td>\n",
       "      <td>0.52</td>\n",
       "      <td>2</td>\n",
       "      <td>159</td>\n",
       "      <td>3</td>\n",
       "      <td>0</td>\n",
       "      <td>1</td>\n",
       "      <td>0</td>\n",
       "      <td>sales</td>\n",
       "      <td>low</td>\n",
       "    </tr>\n",
       "  </tbody>\n",
       "</table>\n",
       "</div>"
      ],
      "text/plain": [
       "   satisfaction_level  last_evaluation  number_project  average_monthly_hours  \\\n",
       "0                0.38             0.53               2                    157   \n",
       "1                0.80             0.86               5                    262   \n",
       "2                0.11             0.88               7                    272   \n",
       "3                0.72             0.87               5                    223   \n",
       "4                0.37             0.52               2                    159   \n",
       "\n",
       "   tenure  work_accident  left  promotion_last_5years department  salary  \n",
       "0       3              0     1                      0      sales     low  \n",
       "1       6              0     1                      0      sales  medium  \n",
       "2       4              0     1                      0      sales  medium  \n",
       "3       5              0     1                      0      sales     low  \n",
       "4       3              0     1                      0      sales     low  "
      ]
     },
     "execution_count": 9,
     "metadata": {},
     "output_type": "execute_result"
    }
   ],
   "source": [
    "df.head()"
   ]
  },
  {
   "cell_type": "code",
   "execution_count": 10,
   "id": "7f37f318",
   "metadata": {
    "execution": {
     "iopub.execute_input": "2024-02-19T16:20:01.917451Z",
     "iopub.status.busy": "2024-02-19T16:20:01.916336Z",
     "iopub.status.idle": "2024-02-19T16:20:04.010485Z",
     "shell.execute_reply": "2024-02-19T16:20:04.008824Z"
    },
    "papermill": {
     "duration": 2.109801,
     "end_time": "2024-02-19T16:20:04.013385",
     "exception": false,
     "start_time": "2024-02-19T16:20:01.903584",
     "status": "completed"
    },
    "tags": []
   },
   "outputs": [
    {
     "name": "stderr",
     "output_type": "stream",
     "text": [
      "/opt/conda/lib/python3.10/site-packages/scipy/__init__.py:146: UserWarning: A NumPy version >=1.16.5 and <1.23.0 is required for this version of SciPy (detected version 1.23.5\n",
      "  warnings.warn(f\"A NumPy version >={np_minversion} and <{np_maxversion}\"\n"
     ]
    },
    {
     "data": {
      "text/plain": [
       "<Axes: xlabel='tenure'>"
      ]
     },
     "execution_count": 10,
     "metadata": {},
     "output_type": "execute_result"
    },
    {
     "data": {
      "image/png": "[encoded data removed]",
      "text/plain": [
       "<Figure size 400x400 with 1 Axes>"
      ]
     },
     "metadata": {},
     "output_type": "display_data"
    }
   ],
   "source": [
    "import seaborn as sns\n",
    "plt.figure(figsize=(4,4))\n",
    "sns.boxplot(x=df['tenure'])"
   ]
  },
  {
   "cell_type": "code",
   "execution_count": 11,
   "id": "5e5f0758",
   "metadata": {
    "execution": {
     "iopub.execute_input": "2024-02-19T16:20:04.038544Z",
     "iopub.status.busy": "2024-02-19T16:20:04.038051Z",
     "iopub.status.idle": "2024-02-19T16:20:04.049467Z",
     "shell.execute_reply": "2024-02-19T16:20:04.048029Z"
    },
    "papermill": {
     "duration": 0.027283,
     "end_time": "2024-02-19T16:20:04.052352",
     "exception": false,
     "start_time": "2024-02-19T16:20:04.025069",
     "status": "completed"
    },
    "tags": []
   },
   "outputs": [
    {
     "name": "stdout",
     "output_type": "stream",
     "text": [
      "0    10000\n",
      "1     1991\n",
      "Name: left, dtype: int64\n",
      "0    0.833959\n",
      "1    0.166041\n",
      "Name: left, dtype: float64\n"
     ]
    }
   ],
   "source": [
    "print(df['left'].value_counts())\n",
    "print(df['left'].value_counts(normalize=True))"
   ]
  },
  {
   "cell_type": "code",
   "execution_count": 12,
   "id": "ecb5cea4",
   "metadata": {
    "execution": {
     "iopub.execute_input": "2024-02-19T16:20:04.078236Z",
     "iopub.status.busy": "2024-02-19T16:20:04.077743Z",
     "iopub.status.idle": "2024-02-19T16:20:04.098179Z",
     "shell.execute_reply": "2024-02-19T16:20:04.097112Z"
    },
    "papermill": {
     "duration": 0.037044,
     "end_time": "2024-02-19T16:20:04.101444",
     "exception": false,
     "start_time": "2024-02-19T16:20:04.064400",
     "status": "completed"
    },
    "tags": []
   },
   "outputs": [
    {
     "data": {
      "text/html": [
       "<div>\n",
       "<style scoped>\n",
       "    .dataframe tbody tr th:only-of-type {\n",
       "        vertical-align: middle;\n",
       "    }\n",
       "\n",
       "    .dataframe tbody tr th {\n",
       "        vertical-align: top;\n",
       "    }\n",
       "\n",
       "    .dataframe thead th {\n",
       "        text-align: right;\n",
       "    }\n",
       "</style>\n",
       "<table border=\"1\" class=\"dataframe\">\n",
       "  <thead>\n",
       "    <tr style=\"text-align: right;\">\n",
       "      <th></th>\n",
       "      <th>mean</th>\n",
       "      <th>median</th>\n",
       "    </tr>\n",
       "    <tr>\n",
       "      <th>left</th>\n",
       "      <th></th>\n",
       "      <th></th>\n",
       "    </tr>\n",
       "  </thead>\n",
       "  <tbody>\n",
       "    <tr>\n",
       "      <th>0</th>\n",
       "      <td>0.667365</td>\n",
       "      <td>0.69</td>\n",
       "    </tr>\n",
       "    <tr>\n",
       "      <th>1</th>\n",
       "      <td>0.440271</td>\n",
       "      <td>0.41</td>\n",
       "    </tr>\n",
       "  </tbody>\n",
       "</table>\n",
       "</div>"
      ],
      "text/plain": [
       "          mean  median\n",
       "left                  \n",
       "0     0.667365    0.69\n",
       "1     0.440271    0.41"
      ]
     },
     "execution_count": 12,
     "metadata": {},
     "output_type": "execute_result"
    }
   ],
   "source": [
    "# Calculate mean and median satisfaction scores of employees who left and those who stayed\n",
    "df.groupby(['left'])['satisfaction_level'].agg([np.mean,np.median])"
   ]
  },
  {
   "cell_type": "code",
   "execution_count": 13,
   "id": "a6808734",
   "metadata": {
    "execution": {
     "iopub.execute_input": "2024-02-19T16:20:04.127047Z",
     "iopub.status.busy": "2024-02-19T16:20:04.126526Z",
     "iopub.status.idle": "2024-02-19T16:20:04.139885Z",
     "shell.execute_reply": "2024-02-19T16:20:04.138724Z"
    },
    "papermill": {
     "duration": 0.029767,
     "end_time": "2024-02-19T16:20:04.142697",
     "exception": false,
     "start_time": "2024-02-19T16:20:04.112930",
     "status": "completed"
    },
    "tags": []
   },
   "outputs": [
    {
     "data": {
      "text/plain": [
       "sales          3239\n",
       "technical      2244\n",
       "support        1821\n",
       "IT              976\n",
       "RandD           694\n",
       "product_mng     686\n",
       "marketing       673\n",
       "accounting      621\n",
       "hr              601\n",
       "management      436\n",
       "Name: department, dtype: int64"
      ]
     },
     "execution_count": 13,
     "metadata": {},
     "output_type": "execute_result"
    }
   ],
   "source": [
    "df[\"department\"].value_counts()"
   ]
  },
  {
   "cell_type": "code",
   "execution_count": 14,
   "id": "051efd8a",
   "metadata": {
    "execution": {
     "iopub.execute_input": "2024-02-19T16:20:04.170925Z",
     "iopub.status.busy": "2024-02-19T16:20:04.169477Z",
     "iopub.status.idle": "2024-02-19T16:20:04.767973Z",
     "shell.execute_reply": "2024-02-19T16:20:04.766869Z"
    },
    "papermill": {
     "duration": 0.615856,
     "end_time": "2024-02-19T16:20:04.770500",
     "exception": false,
     "start_time": "2024-02-19T16:20:04.154644",
     "status": "completed"
    },
    "tags": []
   },
   "outputs": [
    {
     "data": {
      "text/plain": [
       "Text(0.5, 1.0, 'Counts of stayed/left by department')"
      ]
     },
     "execution_count": 14,
     "metadata": {},
     "output_type": "execute_result"
    },
    {
     "data": {
      "image/png": "[encoded data removed]",
      "text/plain": [
       "<Figure size 1100x800 with 1 Axes>"
      ]
     },
     "metadata": {},
     "output_type": "display_data"
    }
   ],
   "source": [
    "plt.figure(figsize=(11,8))\n",
    "sns.histplot(data=df, x='department', hue='left', discrete=1, \n",
    "             hue_order=[0, 1], multiple='dodge', shrink=.5)\n",
    "plt.title('Counts of stayed/left by department', fontsize=14)\n"
   ]
  },
  {
   "cell_type": "code",
   "execution_count": 15,
   "id": "37d4558b",
   "metadata": {
    "execution": {
     "iopub.execute_input": "2024-02-19T16:20:04.798023Z",
     "iopub.status.busy": "2024-02-19T16:20:04.796720Z",
     "iopub.status.idle": "2024-02-19T16:20:05.653677Z",
     "shell.execute_reply": "2024-02-19T16:20:05.652233Z"
    },
    "papermill": {
     "duration": 0.87374,
     "end_time": "2024-02-19T16:20:05.656910",
     "exception": false,
     "start_time": "2024-02-19T16:20:04.783170",
     "status": "completed"
    },
    "tags": []
   },
   "outputs": [
    {
     "name": "stderr",
     "output_type": "stream",
     "text": [
      "/tmp/ipykernel_20/749699801.py:3: FutureWarning: The default value of numeric_only in DataFrame.corr is deprecated. In a future version, it will default to False. Select only valid columns or specify the value of numeric_only to silence this warning.\n",
      "  heatmap = sns.heatmap(df.corr(), vmin=-1, vmax=1, annot=True, cmap=sns.color_palette(\"vlag\", as_cmap=True))\n"
     ]
    },
    {
     "data": {
      "image/png": "[encoded data removed]",
      "text/plain": [
       "<Figure size 1600x900 with 2 Axes>"
      ]
     },
     "metadata": {},
     "output_type": "display_data"
    }
   ],
   "source": [
    "# Plot a correlation heatmap\n",
    "plt.figure(figsize=(16, 9))\n",
    "heatmap = sns.heatmap(df.corr(), vmin=-1, vmax=1, annot=True, cmap=sns.color_palette(\"vlag\", as_cmap=True))\n",
    "heatmap.set_title('Correlation Heatmap', fontdict={'fontsize':14}, pad=12);"
   ]
  },
  {
   "cell_type": "code",
   "execution_count": 16,
   "id": "58ad562f",
   "metadata": {
    "execution": {
     "iopub.execute_input": "2024-02-19T16:20:05.688763Z",
     "iopub.status.busy": "2024-02-19T16:20:05.687690Z",
     "iopub.status.idle": "2024-02-19T16:20:06.589336Z",
     "shell.execute_reply": "2024-02-19T16:20:06.587798Z"
    },
    "papermill": {
     "duration": 0.921218,
     "end_time": "2024-02-19T16:20:06.592810",
     "exception": false,
     "start_time": "2024-02-19T16:20:05.671592",
     "status": "completed"
    },
    "tags": []
   },
   "outputs": [],
   "source": [
    "from sklearn.compose import ColumnTransformer\n",
    "from sklearn.datasets import fetch_openml\n",
    "from sklearn.feature_selection import SelectPercentile, chi2\n",
    "from sklearn.impute import SimpleImputer\n",
    "from sklearn.linear_model import LogisticRegression\n",
    "from sklearn.model_selection import RandomizedSearchCV, train_test_split\n",
    "from sklearn.pipeline import Pipeline\n",
    "from sklearn.ensemble import RandomForestClassifier\n",
    "from sklearn.preprocessing import OneHotEncoder, StandardScaler\n"
   ]
  },
  {
   "cell_type": "code",
   "execution_count": 17,
   "id": "8af7d2a0",
   "metadata": {
    "execution": {
     "iopub.execute_input": "2024-02-19T16:20:06.624349Z",
     "iopub.status.busy": "2024-02-19T16:20:06.623853Z",
     "iopub.status.idle": "2024-02-19T16:20:06.640834Z",
     "shell.execute_reply": "2024-02-19T16:20:06.639904Z"
    },
    "papermill": {
     "duration": 0.03614,
     "end_time": "2024-02-19T16:20:06.643590",
     "exception": false,
     "start_time": "2024-02-19T16:20:06.607450",
     "status": "completed"
    },
    "tags": []
   },
   "outputs": [
    {
     "data": {
      "text/html": [
       "<div>\n",
       "<style scoped>\n",
       "    .dataframe tbody tr th:only-of-type {\n",
       "        vertical-align: middle;\n",
       "    }\n",
       "\n",
       "    .dataframe tbody tr th {\n",
       "        vertical-align: top;\n",
       "    }\n",
       "\n",
       "    .dataframe thead th {\n",
       "        text-align: right;\n",
       "    }\n",
       "</style>\n",
       "<table border=\"1\" class=\"dataframe\">\n",
       "  <thead>\n",
       "    <tr style=\"text-align: right;\">\n",
       "      <th></th>\n",
       "      <th>satisfaction_level</th>\n",
       "      <th>last_evaluation</th>\n",
       "      <th>number_project</th>\n",
       "      <th>average_monthly_hours</th>\n",
       "      <th>tenure</th>\n",
       "      <th>work_accident</th>\n",
       "      <th>left</th>\n",
       "      <th>promotion_last_5years</th>\n",
       "      <th>department</th>\n",
       "      <th>salary</th>\n",
       "    </tr>\n",
       "  </thead>\n",
       "  <tbody>\n",
       "    <tr>\n",
       "      <th>0</th>\n",
       "      <td>0.38</td>\n",
       "      <td>0.53</td>\n",
       "      <td>2</td>\n",
       "      <td>157</td>\n",
       "      <td>3</td>\n",
       "      <td>0</td>\n",
       "      <td>1</td>\n",
       "      <td>0</td>\n",
       "      <td>sales</td>\n",
       "      <td>low</td>\n",
       "    </tr>\n",
       "    <tr>\n",
       "      <th>1</th>\n",
       "      <td>0.80</td>\n",
       "      <td>0.86</td>\n",
       "      <td>5</td>\n",
       "      <td>262</td>\n",
       "      <td>6</td>\n",
       "      <td>0</td>\n",
       "      <td>1</td>\n",
       "      <td>0</td>\n",
       "      <td>sales</td>\n",
       "      <td>medium</td>\n",
       "    </tr>\n",
       "    <tr>\n",
       "      <th>2</th>\n",
       "      <td>0.11</td>\n",
       "      <td>0.88</td>\n",
       "      <td>7</td>\n",
       "      <td>272</td>\n",
       "      <td>4</td>\n",
       "      <td>0</td>\n",
       "      <td>1</td>\n",
       "      <td>0</td>\n",
       "      <td>sales</td>\n",
       "      <td>medium</td>\n",
       "    </tr>\n",
       "    <tr>\n",
       "      <th>3</th>\n",
       "      <td>0.72</td>\n",
       "      <td>0.87</td>\n",
       "      <td>5</td>\n",
       "      <td>223</td>\n",
       "      <td>5</td>\n",
       "      <td>0</td>\n",
       "      <td>1</td>\n",
       "      <td>0</td>\n",
       "      <td>sales</td>\n",
       "      <td>low</td>\n",
       "    </tr>\n",
       "    <tr>\n",
       "      <th>4</th>\n",
       "      <td>0.37</td>\n",
       "      <td>0.52</td>\n",
       "      <td>2</td>\n",
       "      <td>159</td>\n",
       "      <td>3</td>\n",
       "      <td>0</td>\n",
       "      <td>1</td>\n",
       "      <td>0</td>\n",
       "      <td>sales</td>\n",
       "      <td>low</td>\n",
       "    </tr>\n",
       "  </tbody>\n",
       "</table>\n",
       "</div>"
      ],
      "text/plain": [
       "   satisfaction_level  last_evaluation  number_project  average_monthly_hours  \\\n",
       "0                0.38             0.53               2                    157   \n",
       "1                0.80             0.86               5                    262   \n",
       "2                0.11             0.88               7                    272   \n",
       "3                0.72             0.87               5                    223   \n",
       "4                0.37             0.52               2                    159   \n",
       "\n",
       "   tenure  work_accident  left  promotion_last_5years department  salary  \n",
       "0       3              0     1                      0      sales     low  \n",
       "1       6              0     1                      0      sales  medium  \n",
       "2       4              0     1                      0      sales  medium  \n",
       "3       5              0     1                      0      sales     low  \n",
       "4       3              0     1                      0      sales     low  "
      ]
     },
     "execution_count": 17,
     "metadata": {},
     "output_type": "execute_result"
    }
   ],
   "source": [
    "df.head()"
   ]
  },
  {
   "cell_type": "code",
   "execution_count": 18,
   "id": "3d40a278",
   "metadata": {
    "execution": {
     "iopub.execute_input": "2024-02-19T16:20:06.675486Z",
     "iopub.status.busy": "2024-02-19T16:20:06.674622Z",
     "iopub.status.idle": "2024-02-19T16:20:06.682180Z",
     "shell.execute_reply": "2024-02-19T16:20:06.681098Z"
    },
    "papermill": {
     "duration": 0.026642,
     "end_time": "2024-02-19T16:20:06.684935",
     "exception": false,
     "start_time": "2024-02-19T16:20:06.658293",
     "status": "completed"
    },
    "tags": []
   },
   "outputs": [],
   "source": [
    "X = df.drop('left',axis=1)\n",
    "y = df['left']"
   ]
  },
  {
   "cell_type": "code",
   "execution_count": 19,
   "id": "718617ad",
   "metadata": {
    "execution": {
     "iopub.execute_input": "2024-02-19T16:20:06.716661Z",
     "iopub.status.busy": "2024-02-19T16:20:06.715803Z",
     "iopub.status.idle": "2024-02-19T16:20:06.723670Z",
     "shell.execute_reply": "2024-02-19T16:20:06.722730Z"
    },
    "papermill": {
     "duration": 0.026706,
     "end_time": "2024-02-19T16:20:06.726329",
     "exception": false,
     "start_time": "2024-02-19T16:20:06.699623",
     "status": "completed"
    },
    "tags": []
   },
   "outputs": [],
   "source": [
    "numeric_features = ['satisfaction_level','last_evaluation','number_project','average_monthly_hours','tenure','work_accident','promotion_last_5years']\n",
    "numeric_transformer = Pipeline(\n",
    "    steps=[\n",
    "        ('imputer',SimpleImputer()),('scaler',StandardScaler())])\n",
    "cat_features = ['department','salary']\n",
    "cat_transformer = Pipeline(\n",
    "steps=[\n",
    "    ('encoder',OneHotEncoder(handle_unknown=\"ignore\"))\n",
    "    \n",
    "])\n",
    "preprocessor = ColumnTransformer(\n",
    "transformers=[('num',numeric_transformer,numeric_features),\n",
    "              ('cat',cat_transformer,cat_features)])\n",
    "clf = Pipeline(\n",
    "steps=[('preprocessor',preprocessor),('classifier',RandomForestClassifier())])\n"
   ]
  },
  {
   "cell_type": "code",
   "execution_count": 20,
   "id": "cab853a0",
   "metadata": {
    "execution": {
     "iopub.execute_input": "2024-02-19T16:20:06.760010Z",
     "iopub.status.busy": "2024-02-19T16:20:06.759238Z",
     "iopub.status.idle": "2024-02-19T16:20:07.934867Z",
     "shell.execute_reply": "2024-02-19T16:20:07.933428Z"
    },
    "papermill": {
     "duration": 1.195597,
     "end_time": "2024-02-19T16:20:07.937867",
     "exception": false,
     "start_time": "2024-02-19T16:20:06.742270",
     "status": "completed"
    },
    "tags": []
   },
   "outputs": [
    {
     "name": "stdout",
     "output_type": "stream",
     "text": [
      "model score: 0.981\n"
     ]
    }
   ],
   "source": [
    "X_train,X_test,y_train,y_test = train_test_split(X,y,test_size = .2,random_state = 12)\n",
    "clf.fit(X_train, y_train)\n",
    "print(\"model score: %.3f\" % clf.score(X_test, y_test))"
   ]
  },
  {
   "cell_type": "code",
   "execution_count": null,
   "id": "c1fa2ab5",
   "metadata": {
    "papermill": {
     "duration": 0.014811,
     "end_time": "2024-02-19T16:20:07.966911",
     "exception": false,
     "start_time": "2024-02-19T16:20:07.952100",
     "status": "completed"
    },
    "tags": []
   },
   "outputs": [],
   "source": []
  },
  {
   "cell_type": "code",
   "execution_count": null,
   "id": "d968474e",
   "metadata": {
    "papermill": {
     "duration": 0.015571,
     "end_time": "2024-02-19T16:20:07.996680",
     "exception": false,
     "start_time": "2024-02-19T16:20:07.981109",
     "status": "completed"
    },
    "tags": []
   },
   "outputs": [],
   "source": []
  },
  {
   "cell_type": "code",
   "execution_count": null,
   "id": "76bc1ded",
   "metadata": {
    "papermill": {
     "duration": 0.014007,
     "end_time": "2024-02-19T16:20:08.024931",
     "exception": false,
     "start_time": "2024-02-19T16:20:08.010924",
     "status": "completed"
    },
    "tags": []
   },
   "outputs": [],
   "source": []
  },
  {
   "cell_type": "code",
   "execution_count": null,
   "id": "3b3bf5de",
   "metadata": {
    "papermill": {
     "duration": 0.013765,
     "end_time": "2024-02-19T16:20:08.052859",
     "exception": false,
     "start_time": "2024-02-19T16:20:08.039094",
     "status": "completed"
    },
    "tags": []
   },
   "outputs": [],
   "source": []
  }
 ],
 "metadata": {
  "kaggle": {
   "accelerator": "none",
   "dataSources": [
    {
     "datasetId": 1409252,
     "sourceId": 2334549,
     "sourceType": "datasetVersion"
    }
   ],
   "dockerImageVersionId": 30527,
   "isGpuEnabled": false,
   "isInternetEnabled": false,
   "language": "python",
   "sourceType": "notebook"
  },
  "kernelspec": {
   "display_name": "Python 3",
   "language": "python",
   "name": "python3"
  },
  "language_info": {
   "codemirror_mode": {
    "name": "ipython",
    "version": 3
   },
   "file_extension": ".py",
   "mimetype": "text/x-python",
   "name": "python",
   "nbconvert_exporter": "python",
   "pygments_lexer": "ipython3",
   "version": "3.10.12"
  },
  "papermill": {
   "default_parameters": {},
   "duration": 24.198197,
   "end_time": "2024-02-19T16:20:09.595839",
   "environment_variables": {},
   "exception": null,
   "input_path": "__notebook__.ipynb",
   "output_path": "__notebook__.ipynb",
   "parameters": {},
   "start_time": "2024-02-19T16:19:45.397642",
   "version": "2.4.0"
  }
 },
 "nbformat": 4,
 "nbformat_minor": 5
}
